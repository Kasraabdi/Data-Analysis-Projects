{
 "cells": [
  {
   "cell_type": "code",
   "id": "initial_id",
   "metadata": {
    "collapsed": true,
    "ExecuteTime": {
     "end_time": "2025-08-28T07:21:41.888850Z",
     "start_time": "2025-08-28T07:21:41.870577Z"
    }
   },
   "source": [
    "import pandas as pd\n",
    "\n",
    "df = pd.read_csv('enrollments.csv')\n",
    "enrollment_matrix = pd.crosstab(df['student_name'], df['course_name'])\n",
    "\n",
    "print(\"Enrollment Matrix:\")\n",
    "print(enrollment_matrix)"
   ],
   "outputs": [
    {
     "name": "stdout",
     "output_type": "stream",
     "text": [
      "Enrollment Matrix:\n",
      "course_name   Art  Chemistry  Economics  History  Literature  Math  Physics  \\\n",
      "student_name                                                                  \n",
      "Student_1       1          0          0        0           1     0        0   \n",
      "Student_10      0          0          1        0           1     1        1   \n",
      "Student_11      0          0          0        0           1     1        0   \n",
      "Student_12      0          1          0        0           0     0        0   \n",
      "Student_13      0          0          0        0           1     1        0   \n",
      "Student_14      1          0          0        0           0     1        0   \n",
      "Student_15      0          0          0        1           0     0        0   \n",
      "Student_16      0          0          1        0           0     0        1   \n",
      "Student_17      1          0          0        0           0     1        1   \n",
      "Student_18      1          0          1        0           0     1        1   \n",
      "Student_19      0          0          1        0           1     1        0   \n",
      "Student_20      0          0          0        0           1     0        0   \n",
      "Student_3       1          0          0        0           0     0        0   \n",
      "Student_5       0          0          0        0           1     1        0   \n",
      "Student_6       0          1          0        0           0     0        0   \n",
      "Student_7       1          0          0        0           1     0        1   \n",
      "Student_8       0          0          0        0           1     0        1   \n",
      "\n",
      "course_name   Programming  \n",
      "student_name               \n",
      "Student_1               1  \n",
      "Student_10              0  \n",
      "Student_11              0  \n",
      "Student_12              0  \n",
      "Student_13              0  \n",
      "Student_14              0  \n",
      "Student_15              1  \n",
      "Student_16              1  \n",
      "Student_17              0  \n",
      "Student_18              0  \n",
      "Student_19              0  \n",
      "Student_20              1  \n",
      "Student_3               1  \n",
      "Student_5               0  \n",
      "Student_6               0  \n",
      "Student_7               0  \n",
      "Student_8               1  \n"
     ]
    }
   ],
   "execution_count": 13
  },
  {
   "metadata": {
    "ExecuteTime": {
     "end_time": "2025-08-28T07:21:41.900110Z",
     "start_time": "2025-08-28T07:21:41.891123Z"
    }
   },
   "cell_type": "code",
   "source": [
    "all_courses_in_matrix = enrollment_matrix.columns\n",
    "new_student = pd.Series(0, index=all_courses_in_matrix, name='new_student')\n",
    "\n",
    "courses_taken_by_new_student = ['Math', 'History']\n",
    "\n",
    "new_student.loc[courses_taken_by_new_student] = 1\n",
    "\n",
    "print(\"New Student's Courses (Dynamically Created):\")\n",
    "print(new_student)"
   ],
   "id": "28e274f49522b0cf",
   "outputs": [
    {
     "name": "stdout",
     "output_type": "stream",
     "text": [
      "New Student's Courses (Dynamically Created):\n",
      "course_name\n",
      "Art            0\n",
      "Chemistry      0\n",
      "Economics      0\n",
      "History        1\n",
      "Literature     0\n",
      "Math           1\n",
      "Physics        0\n",
      "Programming    0\n",
      "Name: new_student, dtype: int64\n"
     ]
    }
   ],
   "execution_count": 14
  },
  {
   "metadata": {
    "ExecuteTime": {
     "end_time": "2025-08-28T07:21:41.909240Z",
     "start_time": "2025-08-28T07:21:41.901131Z"
    }
   },
   "cell_type": "code",
   "source": [
    "similarities = enrollment_matrix.dot(new_student)\n",
    "most_similar_student_name = similarities.idxmax()\n",
    "print(f\"\\nMost similar student is: {most_similar_student_name}\")\n",
    "\n",
    "similar_student_courses = enrollment_matrix.loc[most_similar_student_name]\n",
    "\n",
    "recommendations = similar_student_courses[(similar_student_courses == 1) & (new_student == 0)]"
   ],
   "id": "ef068243a431e1f6",
   "outputs": [
    {
     "name": "stdout",
     "output_type": "stream",
     "text": [
      "\n",
      "Most similar student is: Student_10\n"
     ]
    }
   ],
   "execution_count": 15
  },
  {
   "metadata": {
    "ExecuteTime": {
     "end_time": "2025-08-28T07:21:41.915284Z",
     "start_time": "2025-08-28T07:21:41.910623Z"
    }
   },
   "cell_type": "code",
   "source": [
    "print(f\"\\nRecommended courses for the new student:\")\n",
    "\n",
    "if recommendations.empty:\n",
    "    print(\"No new courses to recommend based on the most similar student.\")\n",
    "else:\n",
    "    print(recommendations.index.to_list())"
   ],
   "id": "b4092c622c025ba4",
   "outputs": [
    {
     "name": "stdout",
     "output_type": "stream",
     "text": [
      "\n",
      "Recommended courses for the new student:\n",
      "['Economics', 'Literature', 'Physics']\n"
     ]
    }
   ],
   "execution_count": 16
  },
  {
   "metadata": {
    "ExecuteTime": {
     "end_time": "2025-08-28T07:21:41.919154Z",
     "start_time": "2025-08-28T07:21:41.916579Z"
    }
   },
   "cell_type": "code",
   "source": "",
   "id": "f0138e8ebe8bbdc4",
   "outputs": [],
   "execution_count": 16
  },
  {
   "metadata": {
    "ExecuteTime": {
     "end_time": "2025-08-28T07:21:41.922264Z",
     "start_time": "2025-08-28T07:21:41.920197Z"
    }
   },
   "cell_type": "code",
   "source": "",
   "id": "48fed8c8e72874f9",
   "outputs": [],
   "execution_count": 16
  }
 ],
 "metadata": {
  "kernelspec": {
   "display_name": "Python 3",
   "language": "python",
   "name": "python3"
  },
  "language_info": {
   "codemirror_mode": {
    "name": "ipython",
    "version": 2
   },
   "file_extension": ".py",
   "mimetype": "text/x-python",
   "name": "python",
   "nbconvert_exporter": "python",
   "pygments_lexer": "ipython2",
   "version": "2.7.6"
  }
 },
 "nbformat": 4,
 "nbformat_minor": 5
}
